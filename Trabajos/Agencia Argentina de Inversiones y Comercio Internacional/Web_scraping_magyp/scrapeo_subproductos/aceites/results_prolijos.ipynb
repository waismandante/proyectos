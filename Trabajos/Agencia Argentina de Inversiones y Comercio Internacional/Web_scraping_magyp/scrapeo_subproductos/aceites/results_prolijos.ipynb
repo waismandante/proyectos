{
 "cells": [
  {
   "cell_type": "code",
   "execution_count": 7,
   "metadata": {},
   "outputs": [
    {
     "name": "stdout",
     "output_type": "stream",
     "text": [
      "Datos y descripción guardados en C:\\Users\\dwaisman\\Desktop\\scrapeo_MAIN\\scrapeo_magyp\\resultados_descriptivos_sub_productos_finales.xlsx\n"
     ]
    }
   ],
   "source": [
    "import pandas as pd\n",
    "import json\n",
    "import re\n",
    "\n",
    "# Supongamos que has guardado tu JSON en un archivo llamado 'resultados.json'\n",
    "file_path = r'C:\\Users\\dwaisman\\Desktop\\scrapeo_MAIN\\scrapeo_subproductos\\aceites\\resultas.json'\n",
    "\n",
    "# Leer el archivo JSON\n",
    "with open(file_path, 'r', encoding='utf-8') as f:\n",
    "    data = json.load(f)\n",
    "\n",
    "# Convertir la lista de diccionarios a un DataFrame\n",
    "df = pd.DataFrame(data)\n",
    "\n",
    "# Función para extraer mes y año de la URL\n",
    "def extraer_mes_y_año(url):\n",
    "    match = re.search(r'/(\\w{3})_(\\d{2})/', url)\n",
    "    if match:\n",
    "        mes, año = match.groups()\n",
    "        return mes, '20' + año\n",
    "    return None, None\n",
    "\n",
    "# Aplicar la función a la columna 'url'\n",
    "df['mes'], df['año'] = zip(*df['url'].apply(extraer_mes_y_año))\n",
    "\n",
    "# Función para limpiar y truncar 'dato_especifico'\n",
    "def limpiar_y_truncar_dato(dato):\n",
    "    if pd.isna(dato):\n",
    "        return None\n",
    "    # Eliminar puntos de miles\n",
    "    dato = dato.replace('.', '')\n",
    "    dato = dato.replace(',', '')\n",
    "\n",
    "    return dato\n",
    "\n",
    "# Aplicar la función de limpieza y truncado\n",
    "df['dato_especifico'] = df['dato_especifico'].apply(limpiar_y_truncar_dato)\n",
    "\n",
    "# Convertir la columna 'dato_especifico' a numérico\n",
    "df['dato_especifico'] = pd.to_numeric(df['dato_especifico'], errors='coerce')\n",
    "\n",
    "# Describir los datos\n",
    "descripcion = df.describe()\n",
    "\n",
    "# Guardar el DataFrame y la descripción en un archivo Excel\n",
    "excel_file_path = r'C:\\Users\\dwaisman\\Desktop\\scrapeo_MAIN\\scrapeo_magyp\\resultados_descriptivos_sub_productos_finales.xlsx'\n",
    "with pd.ExcelWriter(excel_file_path) as writer:\n",
    "    df.to_excel(writer, sheet_name='Datos', index=False)\n",
    "    descripcion.to_excel(writer, sheet_name='Descripcion')\n",
    "\n",
    "print(f\"Datos y descripción guardados en {excel_file_path}\")\n"
   ]
  }
 ],
 "metadata": {
  "kernelspec": {
   "display_name": "mi_entorno",
   "language": "python",
   "name": "python3"
  },
  "language_info": {
   "codemirror_mode": {
    "name": "ipython",
    "version": 3
   },
   "file_extension": ".py",
   "mimetype": "text/x-python",
   "name": "python",
   "nbconvert_exporter": "python",
   "pygments_lexer": "ipython3",
   "version": "3.9.19"
  }
 },
 "nbformat": 4,
 "nbformat_minor": 2
}
