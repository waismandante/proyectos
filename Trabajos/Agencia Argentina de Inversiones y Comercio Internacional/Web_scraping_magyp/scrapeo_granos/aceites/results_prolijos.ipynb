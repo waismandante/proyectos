{
 "cells": [
  {
   "cell_type": "code",
   "execution_count": 1,
   "metadata": {},
   "outputs": [
    {
     "ename": "FileNotFoundError",
     "evalue": "[Errno 2] No such file or directory: 'C:\\\\Users\\\\dwaisman\\\\Desktop\\\\scrapeo_MAIN\\\\scrapeo_granos\\\\aceites\\\\resultas.json'",
     "output_type": "error",
     "traceback": [
      "\u001b[1;31m---------------------------------------------------------------------------\u001b[0m",
      "\u001b[1;31mFileNotFoundError\u001b[0m                         Traceback (most recent call last)",
      "Cell \u001b[1;32mIn[1], line 9\u001b[0m\n\u001b[0;32m      6\u001b[0m file_path \u001b[38;5;241m=\u001b[39m \u001b[38;5;124mr\u001b[39m\u001b[38;5;124m'\u001b[39m\u001b[38;5;124mC:\u001b[39m\u001b[38;5;124m\\\u001b[39m\u001b[38;5;124mUsers\u001b[39m\u001b[38;5;124m\\\u001b[39m\u001b[38;5;124mdwaisman\u001b[39m\u001b[38;5;124m\\\u001b[39m\u001b[38;5;124mDesktop\u001b[39m\u001b[38;5;124m\\\u001b[39m\u001b[38;5;124mscrapeo_MAIN\u001b[39m\u001b[38;5;124m\\\u001b[39m\u001b[38;5;124mscrapeo_granos\u001b[39m\u001b[38;5;124m\\\u001b[39m\u001b[38;5;124maceites\u001b[39m\u001b[38;5;124m\\\u001b[39m\u001b[38;5;124mresultas.json\u001b[39m\u001b[38;5;124m'\u001b[39m\n\u001b[0;32m      8\u001b[0m \u001b[38;5;66;03m# Leer el archivo JSON\u001b[39;00m\n\u001b[1;32m----> 9\u001b[0m \u001b[38;5;28;01mwith\u001b[39;00m \u001b[38;5;28;43mopen\u001b[39;49m\u001b[43m(\u001b[49m\u001b[43mfile_path\u001b[49m\u001b[43m,\u001b[49m\u001b[43m \u001b[49m\u001b[38;5;124;43m'\u001b[39;49m\u001b[38;5;124;43mr\u001b[39;49m\u001b[38;5;124;43m'\u001b[39;49m\u001b[43m,\u001b[49m\u001b[43m \u001b[49m\u001b[43mencoding\u001b[49m\u001b[38;5;241;43m=\u001b[39;49m\u001b[38;5;124;43m'\u001b[39;49m\u001b[38;5;124;43mutf-8\u001b[39;49m\u001b[38;5;124;43m'\u001b[39;49m\u001b[43m)\u001b[49m \u001b[38;5;28;01mas\u001b[39;00m f:\n\u001b[0;32m     10\u001b[0m     data \u001b[38;5;241m=\u001b[39m json\u001b[38;5;241m.\u001b[39mload(f)\n\u001b[0;32m     12\u001b[0m \u001b[38;5;66;03m# Convertir la lista de diccionarios a un DataFrame\u001b[39;00m\n",
      "File \u001b[1;32mc:\\Users\\dwaisman\\anaconda3\\envs\\mi_entorno\\lib\\site-packages\\IPython\\core\\interactiveshell.py:310\u001b[0m, in \u001b[0;36m_modified_open\u001b[1;34m(file, *args, **kwargs)\u001b[0m\n\u001b[0;32m    303\u001b[0m \u001b[38;5;28;01mif\u001b[39;00m file \u001b[38;5;129;01min\u001b[39;00m {\u001b[38;5;241m0\u001b[39m, \u001b[38;5;241m1\u001b[39m, \u001b[38;5;241m2\u001b[39m}:\n\u001b[0;32m    304\u001b[0m     \u001b[38;5;28;01mraise\u001b[39;00m \u001b[38;5;167;01mValueError\u001b[39;00m(\n\u001b[0;32m    305\u001b[0m         \u001b[38;5;124mf\u001b[39m\u001b[38;5;124m\"\u001b[39m\u001b[38;5;124mIPython won\u001b[39m\u001b[38;5;124m'\u001b[39m\u001b[38;5;124mt let you open fd=\u001b[39m\u001b[38;5;132;01m{\u001b[39;00mfile\u001b[38;5;132;01m}\u001b[39;00m\u001b[38;5;124m by default \u001b[39m\u001b[38;5;124m\"\u001b[39m\n\u001b[0;32m    306\u001b[0m         \u001b[38;5;124m\"\u001b[39m\u001b[38;5;124mas it is likely to crash IPython. If you know what you are doing, \u001b[39m\u001b[38;5;124m\"\u001b[39m\n\u001b[0;32m    307\u001b[0m         \u001b[38;5;124m\"\u001b[39m\u001b[38;5;124myou can use builtins\u001b[39m\u001b[38;5;124m'\u001b[39m\u001b[38;5;124m open.\u001b[39m\u001b[38;5;124m\"\u001b[39m\n\u001b[0;32m    308\u001b[0m     )\n\u001b[1;32m--> 310\u001b[0m \u001b[38;5;28;01mreturn\u001b[39;00m io_open(file, \u001b[38;5;241m*\u001b[39margs, \u001b[38;5;241m*\u001b[39m\u001b[38;5;241m*\u001b[39mkwargs)\n",
      "\u001b[1;31mFileNotFoundError\u001b[0m: [Errno 2] No such file or directory: 'C:\\\\Users\\\\dwaisman\\\\Desktop\\\\scrapeo_MAIN\\\\scrapeo_granos\\\\aceites\\\\resultas.json'"
     ]
    }
   ],
   "source": [
    "import pandas as pd\n",
    "import json\n",
    "import re\n",
    "\n",
    "# Supongamos que has guardado tu JSON en un archivo llamado 'resultados.json'\n",
    "file_path = r'C:\\Users\\dwaisman\\Desktop\\scrapeo_MAIN\\scrapeo_granos\\aceites\\resultados.json'\n",
    "\n",
    "# Leer el archivo JSON\n",
    "with open(file_path, 'r', encoding='utf-8') as f:\n",
    "    data = json.load(f)\n",
    "\n",
    "# Convertir la lista de diccionarios a un DataFrame\n",
    "df = pd.DataFrame(data)\n",
    "\n",
    "# Función para extraer mes y año de la URL\n",
    "def extraer_mes_y_año(url):\n",
    "    match = re.search(r'/(\\w{3})_(\\d{2})/', url)\n",
    "    if match:\n",
    "        mes, año = match.groups()\n",
    "        return mes, '20' + año\n",
    "    return None, None\n",
    "\n",
    "# Aplicar la función a la columna 'url'\n",
    "df['mes'], df['año'] = zip(*df['url'].apply(extraer_mes_y_año))\n",
    "\n",
    "# Función para limpiar y truncar 'dato_especifico'\n",
    "def limpiar_y_truncar_dato(dato):\n",
    "    if pd.isna(dato):\n",
    "        return None\n",
    "    # Eliminar puntos de miles\n",
    "    dato = dato.replace('.', '')\n",
    "    dato = dato.replace(',', '')\n",
    "\n",
    "    return dato\n",
    "\n",
    "# Aplicar la función de limpieza y truncado\n",
    "df['dato_especifico'] = df['dato_especifico'].apply(limpiar_y_truncar_dato)\n",
    "\n",
    "# Convertir la columna 'dato_especifico' a numérico\n",
    "df['dato_especifico'] = pd.to_numeric(df['dato_especifico'], errors='coerce')\n",
    "\n",
    "# Describir los datos\n",
    "descripcion = df.describe()\n",
    "\n",
    "# Guardar el DataFrame y la descripción en un archivo Excel\n",
    "excel_file_path = r'C:\\Users\\dwaisman\\Desktop\\scrapeo_MAIN\\scrapeo_magyp/resultados_descriptivos_granos_finales.xlsx'\n",
    "with pd.ExcelWriter(excel_file_path) as writer:\n",
    "    df.to_excel(writer, sheet_name='Datos', index=False)\n",
    "    descripcion.to_excel(writer, sheet_name='Descripcion')\n",
    "\n",
    "print(f\"Datos y descripción guardados en {excel_file_path}\")\n"
   ]
  }
 ],
 "metadata": {
  "kernelspec": {
   "display_name": "mi_entorno",
   "language": "python",
   "name": "python3"
  },
  "language_info": {
   "codemirror_mode": {
    "name": "ipython",
    "version": 3
   },
   "file_extension": ".py",
   "mimetype": "text/x-python",
   "name": "python",
   "nbconvert_exporter": "python",
   "pygments_lexer": "ipython3",
   "version": "3.9.19"
  }
 },
 "nbformat": 4,
 "nbformat_minor": 2
}
