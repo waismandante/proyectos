{
 "cells": [
  {
   "cell_type": "code",
   "execution_count": 5,
   "metadata": {},
   "outputs": [
    {
     "name": "stdout",
     "output_type": "stream",
     "text": [
      "Datos guardados en resultawwwdos_merged.xlsx\n"
     ]
    }
   ],
   "source": [
    "import pandas as pd\n",
    "\n",
    "# Leer los archivos Excel\n",
    "aceites = pd.read_excel(r\"C:\\Users\\dwaisman\\Desktop\\scrapeo_MAIN\\scrapeo_magyp\\resultados_descriptivos_aceites.xlsx\")\n",
    "granos = pd.read_excel(r\"C:\\Users\\dwaisman\\Desktop\\scrapeo_MAIN\\scrapeo_magyp\\resultados_descriptivos_granos_finales.xlsx\")\n",
    "sub_productos = pd.read_excel(r\"C:\\Users\\dwaisman\\Desktop\\scrapeo_MAIN\\scrapeo_magyp\\resultados_descriptivos_sub_productos_finales.xlsx\")\n",
    "\n",
    "# Renombrar columnas específicas\n",
    "aceites = aceites.rename(columns={'dato_especifico': 'expo_aceites'})\n",
    "granos = granos.rename(columns={'dato_especifico': 'expo_granos'})\n",
    "sub_productos = sub_productos.rename(columns={'dato_especifico': 'expo_sub_productos'})\n",
    "\n",
    "# Dividir las nuevas columnas por 1,000,000\n",
    "aceites['expo_aceites'] = aceites['expo_aceites'] / 1_000_000\n",
    "granos['expo_granos'] = granos['expo_granos'] / 1_000_000\n",
    "sub_productos['expo_sub_productos'] = sub_productos['expo_sub_productos'] / 1_000_000\n",
    "\n",
    "# Diccionario para convertir nombres de meses a números\n",
    "meses = {\n",
    "    'ene': '01', 'feb': '02', 'mar': '03', 'abr': '04',\n",
    "    'may': '05', 'jun': '06', 'jul': '07', 'ago': '08',\n",
    "    'sep': '09', 'oct': '10', 'nov': '11', 'dic': '12'\n",
    "}\n",
    "\n",
    "# Función para convertir fechas con formato 'mes-año' a formato 'datetime'\n",
    "def convertir_a_fecha(mes, año):\n",
    "    mes_num = meses.get(mes.lower())\n",
    "    if mes_num:\n",
    "        año_str = str(año)\n",
    "        fecha_completa = f'01/{mes_num}/20{año_str[-2:]}'\n",
    "        return pd.to_datetime(fecha_completa, format='%d/%m/%Y')\n",
    "    else:\n",
    "        raise ValueError(f\"Formato de mes no válido: {mes}\")\n",
    "\n",
    "# Aplicar la función a la columna 'formerge'\n",
    "aceites['formerge'] = aceites.apply(lambda row: convertir_a_fecha(row['mes'], row['año']), axis=1)\n",
    "granos['formerge'] = granos.apply(lambda row: convertir_a_fecha(row['mes'], row['año']), axis=1)\n",
    "sub_productos['formerge'] = sub_productos.apply(lambda row: convertir_a_fecha(row['mes'], row['año']), axis=1)\n",
    "\n",
    "# Fusionar los DataFrames en base a la columna 'formerge'\n",
    "merged_df = aceites.merge(granos, on='formerge', how='outer').merge(sub_productos, on='formerge', how='outer')\n",
    "\n",
    "# Exportar a Excel con formato personalizado para mostrar como 'mmm-yy'\n",
    "excel_file_path = 'resultawwwdos_merged.xlsx'\n",
    "with pd.ExcelWriter(excel_file_path, date_format='mmm-yy') as writer:\n",
    "    merged_df.to_excel(writer, sheet_name='Datos', index=False)\n",
    "\n",
    "print(f\"Datos guardados en {excel_file_path}\")\n"
   ]
  }
 ],
 "metadata": {
  "kernelspec": {
   "display_name": "mi_entorno",
   "language": "python",
   "name": "python3"
  },
  "language_info": {
   "codemirror_mode": {
    "name": "ipython",
    "version": 3
   },
   "file_extension": ".py",
   "mimetype": "text/x-python",
   "name": "python",
   "nbconvert_exporter": "python",
   "pygments_lexer": "ipython3",
   "version": "3.9.19"
  }
 },
 "nbformat": 4,
 "nbformat_minor": 2
}
