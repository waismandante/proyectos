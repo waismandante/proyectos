{
 "cells": [
  {
   "cell_type": "code",
   "execution_count": 1,
   "metadata": {},
   "outputs": [
    {
     "name": "stderr",
     "output_type": "stream",
     "text": [
      "C:\\Users\\dwaisman\\AppData\\Local\\Temp\\ipykernel_11492\\3077723894.py:5: DtypeWarning: Columns (8,43,44,45,46,52,61,96,98,100,104,107,108,131,138,139,140,141,149,151,153,155,159,162,166,168,169,170,172,173,174,176,177) have mixed types. Specify dtype option on import or set low_memory=False.\n",
      "  chile2024 =  pd.read_csv(r\"c:\\Users\\dwaisman\\OneDrive - FUNDACION ARGENTINA PARA LA PROMOCION DE INVERSIONES Y COMERCIO INTERNACIONAL\\IC 2022\\Interno\\4. Bases de Datos\\Subnacional\\Chile\\basechile2023_con_meses.csv\", dtype={'ARANC-NAC': str,'ARANC-NAC   ': str,'ARANC-NAC    ': str,'ARANC-NAC     ': str,'ARANC-NAC      ': str,'ARANC-NAC       ': str, 'ARANC-NAC        ': str,'ARANC-NAC         ': str})\n"
     ]
    }
   ],
   "source": [
    "import pandas as pd \n",
    "\n",
    "\n",
    "\n",
    "chile2024 =  pd.read_csv(r\"c:\\Users\\dwaisman\\OneDrive - FUNDACION ARGENTINA PARA LA PROMOCION DE INVERSIONES Y COMERCIO INTERNACIONAL\\IC 2022\\Interno\\4. Bases de Datos\\Subnacional\\Chile\\basechile2023_con_meses.csv\", dtype={'ARANC-NAC': str,'ARANC-NAC   ': str,'ARANC-NAC    ': str,'ARANC-NAC     ': str,'ARANC-NAC      ': str,'ARANC-NAC       ': str, 'ARANC-NAC        ': str,'ARANC-NAC         ': str})\n",
    "\n",
    "d6digs = pd.read_excel(r\"c:\\Users\\dwaisman\\Desktop\\diccionario_completocon6digs.xlsx\",dtype={'cod_hs6': str})\n",
    "\n",
    "\n"
   ]
  },
  {
   "cell_type": "code",
   "execution_count": 2,
   "metadata": {},
   "outputs": [
    {
     "name": "stderr",
     "output_type": "stream",
     "text": [
      "C:\\Users\\dwaisman\\AppData\\Local\\Temp\\ipykernel_11492\\3256896810.py:1: DtypeWarning: Columns (44,45,46,52,98,104,107,108,139,149,151,153,155,159,162,166,168,169,170,172,173,176,177) have mixed types. Specify dtype option on import or set low_memory=False.\n",
      "  mesmarzo = pd.read_csv(r\"c:\\Users\\dwaisman\\Desktop\\Dante\\Importaciones marzo 2023.txt\",sep=';')\n"
     ]
    }
   ],
   "source": [
    "mesmarzo = pd.read_csv(r\"c:\\Users\\dwaisman\\Desktop\\Dante\\Importaciones marzo 2023.txt\",sep=';')\n",
    "\n",
    "mesmarzo['mes'] = 'marzo'\n",
    "\n",
    "mesmarzo['año'] = 2023\n",
    "\n",
    "\n",
    "\n",
    "mesmarzo.columns= chile2024.columns\n",
    "\n",
    "\n",
    "\n",
    "chile2024 = pd.concat([chile2024, mesmarzo], ignore_index=True)\n",
    "\n",
    "\n",
    "\n",
    "def convert_to_int(value):\n",
    "    if isinstance(value, str):\n",
    "        return int(float(value.replace(',', '.')))\n",
    "    else:\n",
    "        return int(value)\n",
    "\n"
   ]
  },
  {
   "cell_type": "code",
   "execution_count": 3,
   "metadata": {},
   "outputs": [
    {
     "name": "stdout",
     "output_type": "stream",
     "text": [
      "387242743163\n",
      "79126374979\n"
     ]
    }
   ],
   "source": [
    "chile2024['CIF'] = chile2024['CIF'].fillna(0)\n",
    "\n",
    "chile2024['CIF'] = chile2024['CIF'].apply(convert_to_int)\n",
    "\n",
    "suma = chile2024['CIF'].sum()\n",
    "print(suma)\n",
    "chile2024_ordenado = chile2024.sort_values(by='CIF', ascending=False)\n",
    "\n",
    "chile2024_unique = chile2024.drop_duplicates(subset='NUMENCRIPTADO', keep='first')\n",
    "\n",
    "sumanotduplicados = chile2024_unique['CIF'].sum()\n",
    "print(sumanotduplicados)\n"
   ]
  },
  {
   "cell_type": "code",
   "execution_count": 4,
   "metadata": {},
   "outputs": [
    {
     "data": {
      "text/plain": [
       "array(['enero', 'febrero', 'abril', 'mayo', 'junio', 'julio', 'agosto',\n",
       "       'septiembre', 'octubre', 'noviembre', 'diciembre', 'marzo'],\n",
       "      dtype=object)"
      ]
     },
     "execution_count": 4,
     "metadata": {},
     "output_type": "execute_result"
    }
   ],
   "source": [
    "chile2024['mes'].unique()"
   ]
  },
  {
   "cell_type": "code",
   "execution_count": 5,
   "metadata": {},
   "outputs": [
    {
     "name": "stderr",
     "output_type": "stream",
     "text": [
      "C:\\Users\\dwaisman\\AppData\\Local\\Temp\\ipykernel_11492\\1533142323.py:4: SettingWithCopyWarning: \n",
      "A value is trying to be set on a copy of a slice from a DataFrame.\n",
      "Try using .loc[row_indexer,col_indexer] = value instead\n",
      "\n",
      "See the caveats in the documentation: https://pandas.pydata.org/pandas-docs/stable/user_guide/indexing.html#returning-a-view-versus-a-copy\n",
      "  chile2024_unique['mes'] = chile2024_unique['mes'].str.lower()\n"
     ]
    },
    {
     "name": "stdout",
     "output_type": "stream",
     "text": [
      "Todos los meses están presentes.\n"
     ]
    }
   ],
   "source": [
    "meses_del_año = ['enero', 'febrero', 'marzo', 'abril', 'mayo', 'junio', 'julio', 'agosto', 'septiembre', 'octubre', 'noviembre', 'diciembre']\n",
    "\n",
    "# Convierte la columna a minúsculas\n",
    "chile2024_unique['mes'] = chile2024_unique['mes'].str.lower()\n",
    "\n",
    "# Verifica si todos los meses están presentes\n",
    "faltantes = set(meses_del_año) - set(chile2024_unique['mes'])\n",
    "\n",
    "if not faltantes:\n",
    "    print(\"Todos los meses están presentes.\")\n",
    "else:\n",
    "    print(\"Faltan los siguientes meses:\", ', '.join(faltantes))"
   ]
  },
  {
   "cell_type": "code",
   "execution_count": 6,
   "metadata": {},
   "outputs": [],
   "source": [
    "#marzo2022 = pd.read_csv(r\"c:\\Users\\dwaisman\\Desktop\\Dante\\2022_bis\\Importaciones marzo 2022.txt\",delimiter=';')"
   ]
  },
  {
   "cell_type": "code",
   "execution_count": null,
   "metadata": {},
   "outputs": [],
   "source": [
    "\n"
   ]
  },
  {
   "cell_type": "code",
   "execution_count": null,
   "metadata": {},
   "outputs": [],
   "source": [
    "\n"
   ]
  },
  {
   "cell_type": "code",
   "execution_count": 7,
   "metadata": {},
   "outputs": [],
   "source": [
    "chile2024_ordenadoconcifunique = chile2024_unique.sort_values(by='CIF', ascending=False)\n"
   ]
  },
  {
   "cell_type": "code",
   "execution_count": 8,
   "metadata": {},
   "outputs": [
    {
     "name": "stdout",
     "output_type": "stream",
     "text": [
      "['NUMENCRIPTADO', 'TIPO_DOCTO', 'ADU', 'FORM', 'FECVENCI', 'CODCOMUN', 'NUM_UNICO_IMPORTADOR', 'CODPAISCON', 'DESDIRALM', 'CODCOMRS', 'ADUCTROL', 'NUMPLAZO', 'INDPARCIAL', 'NUMHOJINS', 'TOTINSUM', 'CODALMA', 'NUM_RS', 'FEC_RS', 'ADUA_RS', 'NUMHOJANE', 'NUM_SEC', 'PA_ORIG', 'PA_ADQ', 'VIA_TRAN', 'TRANSB', 'PTO_EMB', 'PTO_DESEM', 'TPO_CARGA', 'ALMACEN', 'FEC_ALMAC', 'FECRETIRO', 'NU_REGR', 'ANO_REG', 'CODVISBUEN', 'NUMREGLA', 'NUMANORES', 'CODULTVB', 'PAGO_GRAV', 'FECTRA', 'FECACEP', 'GNOM_CIA_T', 'CODPAISCIA', 'NUMRUTCIA', 'DIGVERCIA', 'NUM_MANIF', 'NUM_MANIF1', 'NUM_MANIF2', 'FEC_MANIF', 'NUM_CONOC', 'FEC_CONOC', ' NOMEMISOR', 'NUMRUTEMI', 'DIGVEREMI', 'GREG_IMP', 'REG_IMP', 'BCO_COM', 'CODORDIV', 'FORM_PAGO', 'NUMDIAS', 'VALEXFAB', 'MONEDA', 'MONGASFOB', 'CL_COMPRA', 'TOT_ITEMS', 'FOB', 'TOT_HOJAS', 'COD_FLE', 'FLETE', 'TOT_BULTOS', 'COD_SEG', 'SEGURO', 'TOT_PESO', 'CIF', 'NUM_AUT', 'FEC_AUT', 'GBCOCEN', 'ID_BULTOS', 'TPO_BUL1', 'CANT_BUL1', 'TPO_BUL2', 'CANT_BUL2', 'TPO_BUL3', 'CANT_BUL3', 'TPO_BUL4', 'CANT_BUL4', 'TPO_BUL5', 'CANT_BUL5', 'TPO_BUL6', 'CANT_BUL6', 'TPO_BUL7', 'CANT_BUL7', 'TPO_BUL8', 'CANT_BUL8', 'CTA_OTRO', 'MON_OTRO', 'CTA_OTR1', 'MON_OTR1', 'CTA_OTR2', 'MON_OTR2', 'CTA_OTR3', 'MON_OTR3', 'CTA_OTR4', 'MON_OTR4', 'CTA_OTR5', 'MON_OTR5', 'CTA_OTR6', 'MON_OTR6', 'CTA_OTR7', 'MON_OTR7', 'MON_178', 'MON_191', 'FEC_501', 'VAL_601', 'FEC_502', 'VAL_602', 'FEC_503', 'VAL_603', 'FEC_504', 'VAL_604', 'FEC_505', 'VAL_605', 'FEC_506', 'VAL_606', 'FEC_507', 'VAL_607', 'TASA', 'NCUOTAS', 'ADU_DI', 'NUM_DI', 'FEC_DI', 'MON_699', 'MON_199', 'NUMITEM         ', 'DNOMBRE         ', 'DMARCA          ', 'DVARIEDAD       ', 'DOTRO1          ', 'DOTRO2         ', 'ATR-5           ', 'ATR-6          ', 'SAJU-ITEM      ', 'AJU-ITEM        ', 'CANT-MERC      ', 'MERMAS          ', 'MEDIDA          ', 'PRE-UNIT        ', 'ARANC-ALA       ', 'NUMCOR          ', 'NUMACU         ', 'CODOBS1        ', 'DESOBS1         ', 'CODOBS2        ', 'DESOBS2         ', 'CODOBS3         ', 'DESOBS3         ', 'CODOBS4         ', 'DESOBS4        ', 'ARANC-NAC      ', 'CIF-ITEM        ', 'ADVAL-ALA       ', 'ADVAL               ', 'VALAD           ', 'OTRO1           ', 'CTA1            ', 'SIGVAL1         ', 'VAL1           ', 'OTRO2           ', 'CTA2            ', 'SIGVAL2        ', 'VAL2            ', 'OTRO3          ', 'CTA3           ', 'SIGVAL3         ', 'VAL3           ', 'OTRO4           ', 'CTA4           ', 'SIGVAL4         ', 'VAL4            ', 'mes', 'año']\n"
     ]
    }
   ],
   "source": [
    "columnas = chile2024_ordenadoconcifunique.columns.tolist()\n",
    "print(columnas)"
   ]
  },
  {
   "cell_type": "code",
   "execution_count": 9,
   "metadata": {},
   "outputs": [],
   "source": [
    "resultado_groupby = chile2024_ordenadoconcifunique.groupby('ARANC-NAC      ')['CIF'].sum().reset_index()\n"
   ]
  },
  {
   "cell_type": "code",
   "execution_count": 10,
   "metadata": {},
   "outputs": [],
   "source": [
    "groupordenado = resultado_groupby.sort_values(by='CIF', ascending=False)\n"
   ]
  },
  {
   "cell_type": "code",
   "execution_count": 11,
   "metadata": {},
   "outputs": [],
   "source": [
    "groupordenado['ARANC-NAC      '] = groupordenado['ARANC-NAC      '].apply(convert_to_int)\n",
    "\n",
    "groupordenado['ARANC-NAC      '] = groupordenado['ARANC-NAC      '].astype(str)\n",
    "\n",
    "groupordenado['ARANC-NAC      '] = groupordenado['ARANC-NAC      '].str[:6]\n"
   ]
  },
  {
   "cell_type": "code",
   "execution_count": 12,
   "metadata": {},
   "outputs": [],
   "source": [
    "resultado_groupby2 = groupordenado.groupby('ARANC-NAC      ')['CIF'].sum().reset_index()\n",
    "\n"
   ]
  },
  {
   "cell_type": "code",
   "execution_count": 13,
   "metadata": {},
   "outputs": [],
   "source": [
    "resultado_groupby2 = resultado_groupby2.sort_values(by='CIF', ascending=False)\n"
   ]
  },
  {
   "cell_type": "code",
   "execution_count": 14,
   "metadata": {},
   "outputs": [
    {
     "name": "stderr",
     "output_type": "stream",
     "text": [
      "C:\\Users\\dwaisman\\AppData\\Local\\Temp\\ipykernel_11492\\4278966091.py:1: SettingWithCopyWarning: \n",
      "A value is trying to be set on a copy of a slice from a DataFrame.\n",
      "Try using .loc[row_indexer,col_indexer] = value instead\n",
      "\n",
      "See the caveats in the documentation: https://pandas.pydata.org/pandas-docs/stable/user_guide/indexing.html#returning-a-view-versus-a-copy\n",
      "  chile2024_unique['ARANC-NAC      '] = chile2024_unique['ARANC-NAC      '].apply(convert_to_int)\n",
      "C:\\Users\\dwaisman\\AppData\\Local\\Temp\\ipykernel_11492\\4278966091.py:3: SettingWithCopyWarning: \n",
      "A value is trying to be set on a copy of a slice from a DataFrame.\n",
      "Try using .loc[row_indexer,col_indexer] = value instead\n",
      "\n",
      "See the caveats in the documentation: https://pandas.pydata.org/pandas-docs/stable/user_guide/indexing.html#returning-a-view-versus-a-copy\n",
      "  chile2024_unique['ARANC-NAC      '] = chile2024_unique['ARANC-NAC      '].astype(str)\n",
      "C:\\Users\\dwaisman\\AppData\\Local\\Temp\\ipykernel_11492\\4278966091.py:5: SettingWithCopyWarning: \n",
      "A value is trying to be set on a copy of a slice from a DataFrame.\n",
      "Try using .loc[row_indexer,col_indexer] = value instead\n",
      "\n",
      "See the caveats in the documentation: https://pandas.pydata.org/pandas-docs/stable/user_guide/indexing.html#returning-a-view-versus-a-copy\n",
      "  chile2024_unique['ARANC-NAC      '] = chile2024_unique['ARANC-NAC      '].str[:6]\n"
     ]
    }
   ],
   "source": [
    "chile2024_unique['ARANC-NAC      '] = chile2024_unique['ARANC-NAC      '].apply(convert_to_int)\n",
    "\n",
    "chile2024_unique['ARANC-NAC      '] = chile2024_unique['ARANC-NAC      '].astype(str)\n",
    "\n",
    "chile2024_unique['ARANC-NAC      '] = chile2024_unique['ARANC-NAC      '].str[:6]\n"
   ]
  },
  {
   "cell_type": "code",
   "execution_count": 15,
   "metadata": {},
   "outputs": [],
   "source": [
    "dicprovcomuna = pd.read_excel(r\"c:\\Users\\dwaisman\\Desktop\\Dante\\comunas_completas_chile.xlsx\")\n",
    "\n",
    "chile2024_uniquewithprovi = pd.merge(chile2024_unique,dicprovcomuna,left_on='CODCOMUN', right_on='CUT (Código Único Territorial)',how='left')"
   ]
  },
  {
   "cell_type": "code",
   "execution_count": 16,
   "metadata": {},
   "outputs": [
    {
     "name": "stdout",
     "output_type": "stream",
     "text": [
      "Index(['CUT (Código Único Territorial)', 'Nombre', 'Provincia', 'Región'], dtype='object')\n"
     ]
    }
   ],
   "source": [
    "#chile2024_uniquewithprovi.to_csv(r\"C:\\Users\\dwaisman\\Desktop\\comunas_completas_chile.xlsx\", index=False)\n",
    "print(dicprovcomuna.columns)"
   ]
  },
  {
   "cell_type": "code",
   "execution_count": 17,
   "metadata": {},
   "outputs": [
    {
     "name": "stdout",
     "output_type": "stream",
     "text": [
      "[('NUMENCRIPTADO', True), ('TIPO_DOCTO', True), ('CODCOMUN', True), ('ADU', True), ('CODPAISCON', True), ('PA_ORIG', True), ('PA_ADQ', True), ('VIA_TRAN', True), ('PTO_EMB', True), ('PTO_DESEM', True), ('FOB', True), ('CIF', True), ('NUMITEM', True), ('DNOMBRE', True), ('CANT-MERC', True), ('MEDIDA', True), ('PRE-UNIT', True), ('ARANC-NAC', True), ('ARANC-ALA', True), ('ADVAL-ALA', True), ('ADVAL', True), ('VALAD', True), ('OTRO1', True), ('CTA1', True), ('VAL1', True), ('OTRO2', True), ('FLETE', True), ('CTA2', True), ('VAL2', True), ('OTRO3', True), ('CTA3', True), ('VAL3', True), ('OTRO4', True), ('CTA4', True), ('VAL4', True), ('FEC_CONOC', True), ('NOMEMISOR', True), ('NUMRUTEMI', True), ('DIGVEREMI', True), ('GNOM_CIA_T', True), ('CODPAISCIA', True), ('SEGURO', True), ('CUT (Código Único Territorial)', True), ('Nombre', True), ('Provincia', True), ('Región', True)]\n",
      "[('NUMENCRIPTADO', True), ('TIPO_DOCTO', True), ('CODCOMUN', True), ('ADU', True), ('CODPAISCON', True), ('PA_ORIG', True), ('PA_ADQ', True), ('VIA_TRAN', True), ('PTO_EMB', True), ('PTO_DESEM', True), ('FOB', True), ('CIF', True), ('NUMITEM', True), ('DNOMBRE', True), ('CANT-MERC', True), ('MEDIDA', True), ('PRE-UNIT', True), ('ARANC-NAC', True), ('ARANC-ALA', True), ('ADVAL-ALA', True), ('ADVAL', True), ('VALAD', True), ('OTRO1', True), ('CTA1', True), ('VAL1', True), ('OTRO2', True), ('FLETE', True), ('CTA2', True), ('VAL2', True), ('OTRO3', True), ('CTA3', True), ('VAL3', True), ('OTRO4', True), ('CTA4', True), ('VAL4', True), ('FEC_CONOC', True), ('NOMEMISOR', True), ('NUMRUTEMI', True), ('DIGVEREMI', True), ('GNOM_CIA_T', True), ('CODPAISCIA', True), ('SEGURO', True), ('CUT (Código Único Territorial)', True), ('Nombre', True), ('Provincia', True), ('Región', True)]\n",
      "['NUMENCRIPTADO', 'TIPO_DOCTO', 'CODCOMUN', 'ADU', 'CODPAISCON', 'PA_ORIG', 'PA_ADQ', 'VIA_TRAN', 'PTO_EMB', 'PTO_DESEM', 'FOB', 'CIF', 'NUMITEM', 'DNOMBRE', 'CANT-MERC', 'MEDIDA', 'PRE-UNIT', 'ARANC-NAC', 'ARANC-ALA', 'ADVAL-ALA', 'ADVAL', 'VALAD', 'OTRO1', 'CTA1', 'VAL1', 'OTRO2', 'FLETE', 'CTA2', 'VAL2', 'OTRO3', 'CTA3', 'VAL3', 'OTRO4', 'CTA4', 'VAL4', 'FEC_CONOC', 'NOMEMISOR', 'NUMRUTEMI', 'DIGVEREMI', 'GNOM_CIA_T', 'CODPAISCIA', 'SEGURO', 'CUT (Código Único Territorial)', 'Nombre', 'Provincia', 'Región']\n",
      "   NUMENCRIPTADO  TIPO_DOCTO  CODCOMUN  ADU  CODPAISCON  PA_ORIG  PA_ADQ  \\\n",
      "0       19969671         101     13110   48         331      331     225   \n",
      "1       19958890         101     13114   48         226      226     226   \n",
      "2       19939193         101     10101   48         225      225     225   \n",
      "3       19941458         101     13120   48         225      330     225   \n",
      "4       19938795         101      4101   48         225      225     225   \n",
      "\n",
      "   VIA_TRAN  PTO_EMB  PTO_DESEM  ...   NOMEMISOR  NUMRUTEMI  DIGVEREMI  \\\n",
      "0        11      141        992  ...    E-SHOPEX   96897000          3   \n",
      "1         4      116        992  ...  AEROMEXICO   59070370          2   \n",
      "2        11      141        992  ...    E-SHOPEX   96897000          3   \n",
      "3        11      141        992  ...    E-SHOPEX   96897000          3   \n",
      "4        11      141        992  ...    E-SHOPEX   96897000          3   \n",
      "\n",
      "             GNOM_CIA_T CODPAISCIA  SEGURO CUT (Código Único Territorial)  \\\n",
      "0           KALITTA AIR        225   64,16                          13110   \n",
      "1            AEROMEXICO        216     150                          13114   \n",
      "2           KALITTA AIR        225      64                          10101   \n",
      "3  DHL WORLDWIDE EXP. C        997   83,99                          13120   \n",
      "4  ATLAS AIR AGENCIA EN        997   68,51                           4101   \n",
      "\n",
      "         Nombre   Provincia                     Región  \n",
      "0    La Florida    Santiago  Metropolitana de Santiago  \n",
      "1    Las Condes    Santiago  Metropolitana de Santiago  \n",
      "2  Puerto Montt  Llanquihue                  Los Lagos  \n",
      "3         Ñuñoa    Santiago  Metropolitana de Santiago  \n",
      "4     La Serena       Elqui                   Coquimbo  \n",
      "\n",
      "[5 rows x 46 columns]\n"
     ]
    }
   ],
   "source": [
    "columnas_relevantes = [\n",
    "    \"NUMENCRIPTADO\", \"TIPO_DOCTO\",\"CODCOMUN\", \"ADU\", \"CODPAISCON\", \"PA_ORIG\",\n",
    "    \"PA_ADQ\", \"VIA_TRAN\", \"PTO_EMB\", \"PTO_DESEM\", \"FOB\", \"CIF\",\n",
    "    \"NUMITEM\", \"DNOMBRE\", \"CANT-MERC\", \"MEDIDA\", \"PRE-UNIT\", \"ARANC-NAC\",\"ARANC-ALA\",\n",
    "    \"ADVAL-ALA\", \"ADVAL\", \"VALAD\", \"OTRO1\", \"CTA1\", \"VAL1\", \"OTRO2\",\"FLETE\",\n",
    "    \"CTA2\", \"VAL2\", \"OTRO3\", \"CTA3\", \"VAL3\", \"OTRO4\", \"CTA4\", \"VAL4\",\n",
    "    \"FEC_CONOC\", \"NOMEMISOR\", \"NUMRUTEMI\", \"DIGVEREMI\", \"GNOM_CIA_T\", \"CODPAISCIA\",\"SEGURO\",'CUT (Código Único Territorial)', 'Nombre', 'Provincia', 'Región'\n",
    "]\n",
    "\n",
    "\n",
    "columnas = chile2024_uniquewithprovi.columns.to_list()\n",
    "\n",
    "\n",
    "\n",
    "columnas_disponibles = [col.strip().upper() for col in chile2024_uniquewithprovi.columns]\n",
    "\n",
    "# Crear una lista de tuplas que indique si cada columna relevante está presente, después de limpiar los nombres\n",
    "tuplas_bool = [(col, col.strip().upper() in columnas_disponibles) for col in columnas_relevantes]\n",
    "\n",
    "\n",
    "print(tuplas_bool)\n",
    "\n",
    "\n",
    "chile2024_uniquewithprovi.columns = [col.strip() for col in chile2024_uniquewithprovi.columns]\n",
    "\n",
    "columnas_disponibles = chile2024_uniquewithprovi.columns.to_list()\n",
    "\n",
    "# Crear una lista de tuplas que indique si cada columna relevante está presente\n",
    "tuplas_bool = [(col, col in columnas_disponibles) for col in columnas_relevantes]\n",
    "\n",
    "# Filtrar la lista de columnas relevantes para incluir solo las que están en el DataFrame\n",
    "columnas_relevantes_filtradas = [col for col, exists in tuplas_bool if exists]\n",
    "\n",
    "# Mostrar la lista de tuplas para verificar\n",
    "print(tuplas_bool)\n",
    "# Mostrar las columnas relevantes filtradas\n",
    "print(columnas_relevantes_filtradas)\n",
    "\n",
    "# Seleccionar las columnas filtradas del DataFrame\n",
    "chile2024_uniquewithprovi_filtrado = chile2024_uniquewithprovi[columnas_relevantes_filtradas]\n",
    "\n",
    "# Mostrar el DataFrame filtrado\n",
    "print(chile2024_uniquewithprovi_filtrado.head())"
   ]
  },
  {
   "cell_type": "code",
   "execution_count": 18,
   "metadata": {},
   "outputs": [],
   "source": [
    "d6digs_clean = d6digs.sort_values(by='DescripHS6', ascending=False).drop_duplicates(subset='cod_hs6')\n",
    "\n",
    "\n",
    "chilefinparaexportar = pd.merge(chile2024_uniquewithprovi_filtrado, d6digs_clean, left_on = 'ARANC-NAC', right_on='cod_hs6', how='left')\n"
   ]
  },
  {
   "cell_type": "code",
   "execution_count": 19,
   "metadata": {},
   "outputs": [],
   "source": [
    "chilefinparaexportar.to_csv(r\"C:\\Users\\dwaisman\\Desktop\\isthisthefinaloftheroadofchilewithoutrepsconmarzo.csv\", index=False)"
   ]
  },
  {
   "cell_type": "code",
   "execution_count": null,
   "metadata": {},
   "outputs": [],
   "source": []
  },
  {
   "cell_type": "code",
   "execution_count": null,
   "metadata": {},
   "outputs": [],
   "source": []
  }
 ],
 "metadata": {
  "kernelspec": {
   "display_name": "mi_entorno",
   "language": "python",
   "name": "python3"
  },
  "language_info": {
   "codemirror_mode": {
    "name": "ipython",
    "version": 3
   },
   "file_extension": ".py",
   "mimetype": "text/x-python",
   "name": "python",
   "nbconvert_exporter": "python",
   "pygments_lexer": "ipython3",
   "version": "3.9.19"
  }
 },
 "nbformat": 4,
 "nbformat_minor": 2
}
